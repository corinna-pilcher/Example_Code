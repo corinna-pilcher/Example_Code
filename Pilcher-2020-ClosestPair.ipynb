{
 "cells": [
  {
   "cell_type": "markdown",
   "metadata": {},
   "source": [
    "## Closest Pair Implementations"
   ]
  },
  {
   "cell_type": "markdown",
   "metadata": {},
   "source": [
    "**Corinna Pilcher**"
   ]
  },
  {
   "cell_type": "markdown",
   "metadata": {},
   "source": [
    "A closest pair function returns a closest pair of points (if there is more than one set of equidistant points it will only return one). This notebook includes brute force and divide and conquer methods. Both will use the below `distance` method, which calculates the distance between two points using the Pythagorean Theorem."
   ]
  },
  {
   "cell_type": "code",
   "execution_count": 1,
   "metadata": {},
   "outputs": [],
   "source": [
    "from typing import List, Tuple\n",
    "from math import inf, sqrt\n",
    "Point = Tuple[float,float]  # Type alias for a point"
   ]
  },
  {
   "cell_type": "code",
   "execution_count": 2,
   "metadata": {},
   "outputs": [],
   "source": [
    "def distance(p1: Point, p2: Point) -> float:\n",
    "    return sqrt((p1[0] - p2[0])**2 + (p1[1] - p2[1])**2) "
   ]
  },
  {
   "cell_type": "markdown",
   "metadata": {},
   "source": [
    "The `@timeit` decorator permits comparison of runtimes between these two closest pair implementations."
   ]
  },
  {
   "cell_type": "code",
   "execution_count": 3,
   "metadata": {},
   "outputs": [],
   "source": [
    "import time\n",
    "def timeit(func):\n",
    "    \"\"\"\n",
    "    A decorator that times the function func with the arguments that\n",
    "    are passed to it\n",
    "    :param func: Function being timed\n",
    "    :return: a pair with func's result and the time it took to run. \n",
    "    \"\"\"\n",
    "    def clocked(*args, **kwargs):\n",
    "        t0 = time.perf_counter()\n",
    "        result = func(*args, **kwargs)\n",
    "        elapsed = time.perf_counter() - t0\n",
    "        name = func.__name__\n",
    "        return result, elapsed\n",
    "    return clocked"
   ]
  },
  {
   "cell_type": "markdown",
   "metadata": {},
   "source": [
    "#### Brute Force"
   ]
  },
  {
   "cell_type": "markdown",
   "metadata": {},
   "source": [
    "The brute force technique involves comparing every point to every other point. This runs in $n^2$ time, where $n$ is the number of points in the `points` List."
   ]
  },
  {
   "cell_type": "code",
   "execution_count": 4,
   "metadata": {},
   "outputs": [],
   "source": [
    "@timeit\n",
    "def brute(points: List[Point]) -> Tuple[Point,Point]:\n",
    "    minDistance = inf\n",
    "    n = len(points)\n",
    "\n",
    "    # From point 0 through point n-2, since the last point will have already been compared to all others\n",
    "    for i in range(n - 1):\n",
    "\n",
    "        # From the point after this one at i through all others (points before i have already been compared to i)\n",
    "        for j in range(i + 1, n):\n",
    "            \n",
    "            # Calculate distance between points\n",
    "            pi = points[i]\n",
    "            pj = points[j]\n",
    "            d = distance(pi, pj)\n",
    "            \n",
    "            # Update output if this is the new min distance\n",
    "            if d < minDistance:\n",
    "                minDistance = d\n",
    "                p1 = pi\n",
    "                p2 = pj\n",
    "\n",
    "    return p1, p2"
   ]
  },
  {
   "cell_type": "markdown",
   "metadata": {},
   "source": [
    "#### Divide and Conquer"
   ]
  },
  {
   "cell_type": "markdown",
   "metadata": {},
   "source": [
    "The divide and conquer method, `closest`, splits the list and uses brute force only on groups of three or fewer points, avoiding the $n^2$ runtime. Solutions are combined by comparing the smallest distance from each sublist, then checking for closer points across the splits."
   ]
  },
  {
   "cell_type": "markdown",
   "metadata": {},
   "source": [
    "The divide and conquer method depends on an adaptation of the former `brute` method, returning distance in addition to the original return value of the pair of closest points, supporting the comparison of returned values."
   ]
  },
  {
   "cell_type": "code",
   "execution_count": 5,
   "metadata": {},
   "outputs": [],
   "source": [
    "def brute_dist(points: List[Point]) -> Tuple[Point,Point] and int:\n",
    "    minDistance = inf\n",
    "    p1, p2 = (0, 0), (0, 0)\n",
    "    n = len(points)\n",
    "\n",
    "    # From point 0 through point n-2, since the last point will have already been compared to all others\n",
    "    for i in range(len(points) - 1):\n",
    "        \n",
    "        # From the point after this one at i through all others (points before i have already been compared to i)\n",
    "        for j in range(i+1, len(points)):\n",
    "            \n",
    "            # Calculate distance between points\n",
    "            pi = points[i]\n",
    "            pj = points[j]\n",
    "            d = distance(pi, pj)\n",
    "            \n",
    "            # Check if this is the new min distance\n",
    "            if d < minDistance:\n",
    "                minDistance = d\n",
    "                p1 = pi\n",
    "                p2 = pj\n",
    "    \n",
    "    return (p1, p2), minDistance"
   ]
  },
  {
   "cell_type": "markdown",
   "metadata": {},
   "source": [
    "`closest` also uses simple methods to intuitively extract x- and y-coordinates of a Point."
   ]
  },
  {
   "cell_type": "code",
   "execution_count": 6,
   "metadata": {},
   "outputs": [],
   "source": [
    "# Returns the x-coordinate of a point\n",
    "def getX(point: Point) -> float:\n",
    "    return point[0]\n",
    "\n",
    "# Returns the y-coordinate of a point\n",
    "def getY(point: Point) -> float:\n",
    "    return point[1]"
   ]
  },
  {
   "cell_type": "code",
   "execution_count": 7,
   "metadata": {},
   "outputs": [],
   "source": [
    "@timeit\n",
    "def closest(points: List[Point]) -> Tuple[Point,Point]: \n",
    "\n",
    "    # Too few points to find a closest pair\n",
    "    if len(points) < 2:\n",
    "        return None\n",
    "\n",
    "    # Recursive function\n",
    "    def dac(pts: List[Point]) -> Tuple[Point,Point] and int:\n",
    "        numberPoints = len(pts)\n",
    "           \n",
    "        # BASE CASE--------------------------------------------------------\n",
    "        # Group of no more than 3 points, find closest pair via brute force\n",
    "        if numberPoints <= 3:\n",
    "            return brute_dist(pts)\n",
    "        \n",
    "        # LEFT-RIGHT DIVIDE------------------------------------------------\n",
    "        # numberPoints / 2 to find the middle index\n",
    "        midIndex = numberPoints >> 1 \n",
    "        \n",
    "        # Find the middle value of x to define midline for later use \n",
    "        x1=pts[midIndex][0]\n",
    "        x2=pts[midIndex + 1][0]\n",
    "        midline = (x1+x2) / 2\n",
    "        \n",
    "        # Find the closest pair in each half\n",
    "        (p_left1, p_left2), d_left = dac(pts[:midIndex])\n",
    "        (p_right1, p_right2), d_right = dac(pts[midIndex:])\n",
    "        \n",
    "        # LEFT-RIGHT COMBINATION-------------------------------------------\n",
    "        # Combine solutions by finding the smallest distance between R and L sections\n",
    "        # If left pair is closer together\n",
    "        if d_left < d_right:\n",
    "            d = d_left\n",
    "            (p1, p2) = p_left1, p_left2\n",
    "            \n",
    "        # If right pair is closer together\n",
    "        else:\n",
    "            d = d_right\n",
    "            (p1, p2) = p_right1, p_right2\n",
    "        \n",
    " \n",
    "        # CHECK ACROSS MIDLINE---------------------------------------------\n",
    "        # Check for closer pairs across the midline\n",
    "        \n",
    "        # Create subset of points that could be closer by searching d before and d after midline\n",
    "        startMiddle = midline - d\n",
    "        endMiddle = midline + d\n",
    "        midpoints = [xy for xy in pts if (getX(xy) > startMiddle) & (getX(xy) > endMiddle)]\n",
    "        \n",
    "        # Sort subset by y-coordinate - this is a copy of the list\n",
    "        midpoints = sorted(midpoints, key=getY) \n",
    "        \n",
    "        # Check the seven closest points to each midpoint\n",
    "        # For each midpoint\n",
    "        for i in range(len(midpoints)):\n",
    "            \n",
    "            # Check the seven closest points\n",
    "            for j in range(7):\n",
    "                \n",
    "                # If index is valid\n",
    "                if((i + 1 + j) < len(midpoints)):\n",
    "                    p_mid1 = midpoints[i]\n",
    "                    p_mid2 = midpoints[i + 1 + j]\n",
    "                    d_mid = distance(p_mid1, p_mid2)\n",
    "                    \n",
    "                    # COMBINE LEFT-RIGHT AND MIDDLE SOLUTIONS--------------\n",
    "                    # Find ultimate smallest distance between L/R min distance and mid distance\n",
    "                    if(d_mid < d):\n",
    "                        d = d_mid\n",
    "                        p1 = p_mid1\n",
    "                        p2 = p_mid2\n",
    "                    \n",
    "    \n",
    "        # RETURN CLOSEST PAIR----------------------------------------------\n",
    "        return (p1, p2), d\n",
    "        \n",
    "    # Sort points by x-coordinates, but only once\n",
    "    points = sorted(points, key=getX) \n",
    "    \n",
    "    # Call the recursive function to find the closest pair via DAC\n",
    "    (p1, p2), d = dac(points)\n",
    "    \n",
    "    return (p1, p2)"
   ]
  },
  {
   "cell_type": "markdown",
   "metadata": {},
   "source": [
    "Here's a quick time comparison test:"
   ]
  },
  {
   "cell_type": "code",
   "execution_count": 8,
   "metadata": {},
   "outputs": [],
   "source": [
    "from random import random as rand, seed\n",
    "seed(42)"
   ]
  },
  {
   "cell_type": "code",
   "execution_count": 9,
   "metadata": {},
   "outputs": [
    {
     "name": "stdout",
     "output_type": "stream",
     "text": [
      "BRUTE ---> 0.9900552000000005 seconds to find ((846.104, 92.298), (847.133, 92.464)) as the closest pair.\n",
      "CLOSEST ---> 0.046936899999998616 seconds to find ((846.104, 92.298), (847.133, 92.464)) as the closest pair.\n"
     ]
    }
   ],
   "source": [
    "n = 1024\n",
    "pts = [(round(rand()*1000,3),round(rand()*1000,3)) for i in range(n)]\n",
    "\n",
    "brute_pts, brute_time = brute(pts)\n",
    "closest_pts, closest_time = closest(pts)\n",
    "\n",
    "print(\"BRUTE --->\", brute_time, \"seconds to find\", brute_pts, \"as the closest pair.\")\n",
    "print(\"CLOSEST --->\", closest_time, \"seconds to find\", closest_pts, \"as the closest pair.\")"
   ]
  },
  {
   "cell_type": "markdown",
   "metadata": {},
   "source": [
    "Closest is much more efficient, especially when it comes to larger input size ($n$)."
   ]
  }
 ],
 "metadata": {
  "kernelspec": {
   "display_name": "Python 3",
   "language": "python",
   "name": "python3"
  },
  "language_info": {
   "codemirror_mode": {
    "name": "ipython",
    "version": 3
   },
   "file_extension": ".py",
   "mimetype": "text/x-python",
   "name": "python",
   "nbconvert_exporter": "python",
   "pygments_lexer": "ipython3",
   "version": "3.8.3"
  }
 },
 "nbformat": 4,
 "nbformat_minor": 4
}
